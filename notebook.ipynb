{
 "cells": [
  {
   "cell_type": "code",
   "execution_count": 1,
   "id": "285d092b",
   "metadata": {},
   "outputs": [
    {
     "data": {
      "text/plain": [
       "'C:\\\\Users\\\\thomas\\\\Desktop\\\\ineuron\\\\FSDS (Dec onwards, copy this folder)\\\\Projects\\\\Project1\\\\ML-with-CI-CD-pipeline'"
      ]
     },
     "execution_count": 1,
     "metadata": {},
     "output_type": "execute_result"
    }
   ],
   "source": [
    "import os\n",
    "os.getcwd()"
   ]
  },
  {
   "cell_type": "code",
   "execution_count": 2,
   "id": "c073eb28",
   "metadata": {},
   "outputs": [
    {
     "data": {
      "text/plain": [
       "__main__.DataIngestionConfig"
      ]
     },
     "execution_count": 2,
     "metadata": {},
     "output_type": "execute_result"
    }
   ],
   "source": [
    "from collections import namedtuple\n",
    "\n",
    "DataIngestionConfig = namedtuple(\"DataIngestionConfig\",\n",
    "                                 [\"dataset_download_url\", \"tgz_download_dir\", \"raw_data_dir\",\n",
    "                                  \"ingested_train_dir\", \"ingested_test_dir\"])\n",
    "DataIngestionConfig "
   ]
  },
  {
   "cell_type": "code",
   "execution_count": 3,
   "id": "30a87d41",
   "metadata": {},
   "outputs": [
    {
     "data": {
      "text/plain": [
       "DataIngestionConfig(dataset_download_url='some_site', tgz_download_dir='some_dir', raw_data_dir='some_other_dir', ingested_train_dir='x', ingested_test_dir='y')"
      ]
     },
     "execution_count": 3,
     "metadata": {},
     "output_type": "execute_result"
    }
   ],
   "source": [
    "obj1 = DataIngestionConfig(dataset_download_url=\"some_site\", tgz_download_dir=\"some_dir\", raw_data_dir=\"some_other_dir\",\n",
    "                          ingested_train_dir = \"x\", ingested_test_dir = \"y\")\n",
    "\n",
    "obj1"
   ]
  },
  {
   "cell_type": "code",
   "execution_count": 4,
   "id": "ec2bdc5b",
   "metadata": {},
   "outputs": [
    {
     "data": {
      "text/plain": [
       "'some_site'"
      ]
     },
     "execution_count": 4,
     "metadata": {},
     "output_type": "execute_result"
    }
   ],
   "source": [
    "obj1.dataset_download_url"
   ]
  }
 ],
 "metadata": {
  "kernelspec": {
   "display_name": "Python 3 (ipykernel)",
   "language": "python",
   "name": "python3"
  },
  "language_info": {
   "codemirror_mode": {
    "name": "ipython",
    "version": 3
   },
   "file_extension": ".py",
   "mimetype": "text/x-python",
   "name": "python",
   "nbconvert_exporter": "python",
   "pygments_lexer": "ipython3",
   "version": "3.8.8"
  }
 },
 "nbformat": 4,
 "nbformat_minor": 5
}
